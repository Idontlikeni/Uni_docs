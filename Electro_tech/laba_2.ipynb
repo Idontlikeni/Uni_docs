{
 "cells": [
  {
   "cell_type": "markdown",
   "metadata": {},
   "source": [
    "# Эксперимент 3"
   ]
  },
  {
   "cell_type": "code",
   "execution_count": 36,
   "metadata": {},
   "outputs": [],
   "source": [
    "fr = 19.91\n",
    "arr = []\n",
    "for i in range(3, 11, 2):\n",
    "    arr.append(fr*i/10)\n",
    "arr.append(fr)\n",
    "arr += [1.1*fr, 1.2*fr, 1.5*fr, 2*fr]"
   ]
  },
  {
   "cell_type": "code",
   "execution_count": 37,
   "metadata": {},
   "outputs": [
    {
     "name": "stdout",
     "output_type": "stream",
     "text": [
      "5.973000000000001 9.955 13.937000000000001 17.919 19.91 21.901000000000003 23.892 29.865000000000002 39.82\n"
     ]
    }
   ],
   "source": [
    "print(*arr)"
   ]
  },
  {
   "cell_type": "markdown",
   "metadata": {},
   "source": [
    "# Первый эксперимент"
   ]
  },
  {
   "cell_type": "code",
   "execution_count": 38,
   "metadata": {},
   "outputs": [
    {
     "name": "stdout",
     "output_type": "stream",
     "text": [
      "[28.53  47.304 65.232 72.9   77.04  79.56 ]\n"
     ]
    }
   ],
   "source": [
    "import numpy as np\n",
    "f1 = [i*10 for i in range(1, 6)]\n",
    "f1 = [5] + f1\n",
    "f1 = np.array(f1)\n",
    "dt = np.array([15.85, 13.14, 9.06, 6.75, 5.35, 4.42])\n",
    "phi = 360*f1*dt/1000\n",
    "print(phi)\n"
   ]
  },
  {
   "cell_type": "code",
   "execution_count": 39,
   "metadata": {},
   "outputs": [
    {
     "name": "stdout",
     "output_type": "stream",
     "text": [
      "[ 609.4689748  1218.93794959 2437.87589919 3656.81384878 4875.75179837\n",
      " 6094.68974796]\n"
     ]
    }
   ],
   "source": [
    "L = 1.94*10\n",
    "Xl = 2*np.pi*f1*L\n",
    "print(Xl)"
   ]
  },
  {
   "cell_type": "markdown",
   "metadata": {},
   "source": [
    "# 3-й Эксперимент"
   ]
  },
  {
   "cell_type": "code",
   "execution_count": 40,
   "metadata": {},
   "outputs": [
    {
     "name": "stdout",
     "output_type": "stream",
     "text": [
      "[-81.1515672 -72.464436  -56.6455428 -22.5134316   2.186118   23.7319236\n",
      "  39.3931296  61.28298    72.966168 ] [743.71540298 380.5347677  209.20714286 124.1059322  113.08494208\n",
      " 122.0375     146.22566151 232.45238095 381.38208524]\n"
     ]
    }
   ],
   "source": [
    "dt = np.array([-37.74, -20.22, -11.29, -3.49, 0.305, 3.01, 4.58, 5.7, 5.09])\n",
    "I = np.array([393.82, 769.68, 1400, 2360, 2590, 2400, 2003, 1260, 767.97])\n",
    "U = 292.89\n",
    "f = np.array(arr)\n",
    "phi = 360*f*dt/1000\n",
    "Z = U*1000/I\n",
    "print(phi, Z)"
   ]
  },
  {
   "cell_type": "markdown",
   "metadata": {},
   "source": [
    "# 2-й Эксперимент"
   ]
  },
  {
   "cell_type": "code",
   "execution_count": 41,
   "metadata": {},
   "outputs": [
    {
     "data": {
      "text/plain": [
       "array([964.57541268, 482.28770634, 241.14385317, 160.76256878,\n",
       "       120.57192658,  96.45754127])"
      ]
     },
     "execution_count": 41,
     "metadata": {},
     "output_type": "execute_result"
    }
   ],
   "source": [
    "f = [i*10 for i in range(1, 6)]\n",
    "f = [5] + f\n",
    "f = np.array(f)\n",
    "C = 33\n",
    "Xc = 10**6/(2*np.pi*f*C)\n",
    "dt = np.array([-46.23, -21.29, -8, -5.06, -3.24, -2.24])\n",
    "Xc"
   ]
  },
  {
   "cell_type": "code",
   "execution_count": 44,
   "metadata": {},
   "outputs": [
    {
     "data": {
      "text/plain": [
       "array([-83.214, -76.644, -57.6  , -54.648, -46.656, -40.32 ])"
      ]
     },
     "execution_count": 44,
     "metadata": {},
     "output_type": "execute_result"
    }
   ],
   "source": [
    "phi = 360*f*dt/1000\n",
    "phi"
   ]
  }
 ],
 "metadata": {
  "kernelspec": {
   "display_name": "Python 3",
   "language": "python",
   "name": "python3"
  },
  "language_info": {
   "codemirror_mode": {
    "name": "ipython",
    "version": 3
   },
   "file_extension": ".py",
   "mimetype": "text/x-python",
   "name": "python",
   "nbconvert_exporter": "python",
   "pygments_lexer": "ipython3",
   "version": "3.12.0"
  }
 },
 "nbformat": 4,
 "nbformat_minor": 2
}
