{
 "cells": [
  {
   "cell_type": "code",
   "execution_count": 21,
   "metadata": {},
   "outputs": [
    {
     "name": "stdout",
     "output_type": "stream",
     "text": [
      "0 00000 4 00100\n",
      "1 00001 5 00101\n",
      "2 00010 6 00110\n",
      "3 00011 7 00111\n",
      "4 00100 8 01000\n",
      "5 00101 9 01001\n",
      "6 00110 10 01010\n",
      "7 00111 11 01011\n",
      "8 01000 12 01100\n",
      "9 01001 13 01101\n",
      "10 01010 14 01110\n",
      "11 01011 15 01111\n",
      "12 01100 16 10000\n",
      "13 01101 17 10001\n",
      "14 01110 18 10010\n",
      "15 01111 0 00000\n",
      "16 10000 1 00001\n",
      "17 10001 2 00010\n",
      "18 10010 3 00011\n"
     ]
    }
   ],
   "source": [
    "M = 19\n",
    "S = 4\n",
    "q = []\n",
    "qt = []\n",
    "for i in range(M):\n",
    "    print(i, bin(i)[2:].rjust(5, '0'), (i + S)%M, bin((i + S)%M)[2:].rjust(5, '0'))\n",
    "    q.append(bin(i)[2:].rjust(5, '0'))\n",
    "    qt.append(bin((i + S)%M)[2:].rjust(5, '0'))"
   ]
  },
  {
   "cell_type": "code",
   "execution_count": 23,
   "metadata": {},
   "outputs": [
    {
     "name": "stdout",
     "output_type": "stream",
     "text": [
      "Q:4\n",
      "00000000\n",
      "00001011\n",
      "xxxxxxxx\n",
      "00x0xxxx\n",
      "----------------\n",
      "Q:3\n",
      "00001111\n",
      "11110000\n",
      "xxxxxxxx\n",
      "00x0xxxx\n",
      "----------------\n",
      "Q:2\n",
      "11110000\n",
      "11110000\n",
      "xxxxxxxx\n",
      "00x0xxxx\n",
      "----------------\n",
      "Q:1\n",
      "00111100\n",
      "00111000\n",
      "xxxxxxxx\n",
      "01x1xxxx\n",
      "----------------\n",
      "Q:0\n",
      "01100110\n",
      "01100010\n",
      "xxxxxxxx\n",
      "10x1xxxx\n",
      "----------------\n"
     ]
    }
   ],
   "source": [
    "counter = 4\n",
    "for elem in list(zip(*qt)):\n",
    "    f = \"\".join(elem) # .ljust(32, 'x')\n",
    "    # print(f)\n",
    "    # print(len(f))\n",
    "    rows = ['00', '01', '11', '10']\n",
    "    cols = ['000', '001', '011', '010', '110', '111', '101', '100']\n",
    "    arr = [['x' for __ in range(len(cols))] for _ in range(len(rows))]\n",
    "    for i in range(M):\n",
    "        s = q[i]\n",
    "        arr[rows.index(s[:2])][cols.index(s[2:])] = f[i]\n",
    "    print(f\"Q:{counter}\")\n",
    "    counter -= 1\n",
    "    for i in range(4):\n",
    "        print(\"\".join(arr[i]))\n",
    "    print(\"----------------\")"
   ]
  },
  {
   "cell_type": "markdown",
   "metadata": {},
   "source": [
    "\n",
    "$$Q_4^{'} = Q_3Q_2\\bar{Q_1} + Q_3Q_2\\bar{Q_0} \\\\\n",
    "\n",
    "Q_3^{'} = Q_3\\bar{Q_2} + \\bar{Q_3}Q_2 \\\\ \n",
    "\n",
    "Q_2^{'} = \\bar{Q_4}\\bar{Q_2} \\\\ \n",
    "\n",
    "Q_1^{'} = Q_4Q_0 + Q_1\\bar{Q_0} +\\bar{Q_2}Q_1 + \\bar{Q_3}Q_1 \\\\ \n",
    "\n",
    "Q_0^{'} = Q_4\\bar{Q_0} + \\bar{Q_3}Q_2Q_0 + \\bar{Q_2}$$\n",
    "\n"
   ]
  },
  {
   "cell_type": "code",
   "execution_count": null,
   "metadata": {},
   "outputs": [],
   "source": []
  }
 ],
 "metadata": {
  "kernelspec": {
   "display_name": "Python 3",
   "language": "python",
   "name": "python3"
  },
  "language_info": {
   "codemirror_mode": {
    "name": "ipython",
    "version": 3
   },
   "file_extension": ".py",
   "mimetype": "text/x-python",
   "name": "python",
   "nbconvert_exporter": "python",
   "pygments_lexer": "ipython3",
   "version": "3.12.0"
  }
 },
 "nbformat": 4,
 "nbformat_minor": 2
}
