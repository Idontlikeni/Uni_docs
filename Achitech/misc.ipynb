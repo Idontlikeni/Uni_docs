{
 "cells": [
  {
   "cell_type": "code",
   "execution_count": 38,
   "metadata": {},
   "outputs": [
    {
     "name": "stdout",
     "output_type": "stream",
     "text": [
      "\\bar{x_{0}} \\bar{x_{1}} \\bar{x_{2}} \\bar{x_{3}} \\bar{x_{4}} + \\bar{x_{0}} \\bar{x_{1}} \\bar{x_{2}} x_{3} \\bar{x_{4}} + \\bar{x_{0}} \\bar{x_{1}} \\bar{x_{2}} x_{3} x_{4} + \\bar{x_{0}} \\bar{x_{1}} x_{2} \\bar{x_{3}} \\bar{x_{4}} + \\bar{x_{0}} x_{1} \\bar{x_{2}} \\bar{x_{3}} x_{4} + \\bar{x_{0}} x_{1} \\bar{x_{2}} x_{3} \\bar{x_{4}} + \\bar{x_{0}} x_{1} \\bar{x_{2}} x_{3} x_{4} + \\bar{x_{0}} x_{1} x_{2} x_{3} x_{4} + x_{0} \\bar{x_{1}} \\bar{x_{2}} \\bar{x_{3}} x_{4} + x_{0} \\bar{x_{1}} \\bar{x_{2}} x_{3} \\bar{x_{4}} + x_{0} \\bar{x_{1}} x_{2} x_{3} \\bar{x_{4}} + x_{0} \\bar{x_{1}} x_{2} x_{3} x_{4} + x_{0} x_{1} \\bar{x_{2}} \\bar{x_{3}} \\bar{x_{4}} + x_{0} x_{1} \\bar{x_{2}} \\bar{x_{3}} x_{4} + x_{0} x_{1} \\bar{x_{2}} x_{3} \\bar{x_{4}} + x_{0} x_{1} x_{2} \\bar{x_{3}} \\bar{x_{4}} + x_{0} x_{1} x_{2} x_{3} x_{4} + \n"
     ]
    }
   ],
   "source": [
    "f = '0100 0111 1000 1110 1001 1100 0001 0110'.replace(' ', '')\n",
    "sdnf = ''\n",
    "sknf = ''\n",
    "for i in range(len(f)):\n",
    "    s = bin(i)[2:].rjust(5, '0')\n",
    "    if f[i] == '1':\n",
    "        sknf += '('\n",
    "        temp = []\n",
    "        for j in range(5):\n",
    "            if s[j] == '1':\n",
    "                temp.append(\"\\\\bar{x_{\" + str(j) + \"}}\")\n",
    "            else:\n",
    "                temp.append(\"x_{\" + str(j) + \"}\")\n",
    "        sknf += \" + \".join(temp)\n",
    "        sknf += ')'\n",
    "    else:\n",
    "        temp = []\n",
    "        for j in range(5):\n",
    "            if s[j] == '0':\n",
    "                temp.append(\"\\\\bar{x_{\" + str(j) + \"}}\")\n",
    "            else: temp.append('x_{' + str(j) + '}')\n",
    "        sdnf += ' '.join(temp)\n",
    "        sdnf += ' + '\n",
    "print(sdnf)\n",
    "\n",
    "\n"
   ]
  },
  {
   "cell_type": "code",
   "execution_count": 39,
   "metadata": {},
   "outputs": [
    {
     "name": "stdout",
     "output_type": "stream",
     "text": [
      "(x_{0} + x_{1} + x_{2} + x_{3} + \\bar{x_{4}})(x_{0} + x_{1} + \\bar{x_{2}} + x_{3} + \\bar{x_{4}})(x_{0} + x_{1} + \\bar{x_{2}} + \\bar{x_{3}} + x_{4})(x_{0} + x_{1} + \\bar{x_{2}} + \\bar{x_{3}} + \\bar{x_{4}})(x_{0} + \\bar{x_{1}} + x_{2} + x_{3} + x_{4})(x_{0} + \\bar{x_{1}} + \\bar{x_{2}} + x_{3} + x_{4})(x_{0} + \\bar{x_{1}} + \\bar{x_{2}} + x_{3} + \\bar{x_{4}})(x_{0} + \\bar{x_{1}} + \\bar{x_{2}} + \\bar{x_{3}} + x_{4})(\\bar{x_{0}} + x_{1} + x_{2} + x_{3} + x_{4})(\\bar{x_{0}} + x_{1} + x_{2} + \\bar{x_{3}} + \\bar{x_{4}})(\\bar{x_{0}} + x_{1} + \\bar{x_{2}} + x_{3} + x_{4})(\\bar{x_{0}} + x_{1} + \\bar{x_{2}} + x_{3} + \\bar{x_{4}})(\\bar{x_{0}} + \\bar{x_{1}} + x_{2} + \\bar{x_{3}} + \\bar{x_{4}})(\\bar{x_{0}} + \\bar{x_{1}} + \\bar{x_{2}} + x_{3} + \\bar{x_{4}})(\\bar{x_{0}} + \\bar{x_{1}} + \\bar{x_{2}} + \\bar{x_{3}} + x_{4})\n"
     ]
    }
   ],
   "source": [
    "print(sknf)"
   ]
  },
  {
   "cell_type": "markdown",
   "metadata": {},
   "source": [
    "1 - binary digits\n",
    "2 - SRAM\n",
    "3 - SRAM\n",
    "4 - they're both volatile\n",
    "5 - magnetic storage\n",
    "6 - cus it needs to spin\n",
    "7 - as light and dark spots"
   ]
  }
 ],
 "metadata": {
  "kernelspec": {
   "display_name": "Python 3",
   "language": "python",
   "name": "python3"
  },
  "language_info": {
   "codemirror_mode": {
    "name": "ipython",
    "version": 3
   },
   "file_extension": ".py",
   "mimetype": "text/x-python",
   "name": "python",
   "nbconvert_exporter": "python",
   "pygments_lexer": "ipython3",
   "version": "3.12.0"
  }
 },
 "nbformat": 4,
 "nbformat_minor": 2
}
