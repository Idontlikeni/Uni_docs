{
 "cells": [
  {
   "cell_type": "code",
   "execution_count": 1,
   "metadata": {},
   "outputs": [
    {
     "name": "stdout",
     "output_type": "stream",
     "text": [
      "\\bar{x_{0}} \\bar{x_{1}} \\bar{x_{2}} \\bar{x_{3}} \\bar{x_{4}} + \\bar{x_{0}} \\bar{x_{1}} \\bar{x_{2}} x_{3} \\bar{x_{4}} + \\bar{x_{0}} \\bar{x_{1}} \\bar{x_{2}} x_{3} x_{4} + \\bar{x_{0}} \\bar{x_{1}} x_{2} \\bar{x_{3}} \\bar{x_{4}} + \\bar{x_{0}} x_{1} \\bar{x_{2}} \\bar{x_{3}} x_{4} + \\bar{x_{0}} x_{1} \\bar{x_{2}} x_{3} \\bar{x_{4}} + \\bar{x_{0}} x_{1} \\bar{x_{2}} x_{3} x_{4} + \\bar{x_{0}} x_{1} x_{2} x_{3} x_{4} + x_{0} \\bar{x_{1}} \\bar{x_{2}} \\bar{x_{3}} x_{4} + x_{0} \\bar{x_{1}} \\bar{x_{2}} x_{3} \\bar{x_{4}} + x_{0} \\bar{x_{1}} x_{2} x_{3} \\bar{x_{4}} + x_{0} \\bar{x_{1}} x_{2} x_{3} x_{4} + x_{0} x_{1} \\bar{x_{2}} \\bar{x_{3}} \\bar{x_{4}} + x_{0} x_{1} \\bar{x_{2}} \\bar{x_{3}} x_{4} + x_{0} x_{1} \\bar{x_{2}} x_{3} \\bar{x_{4}} + x_{0} x_{1} x_{2} \\bar{x_{3}} \\bar{x_{4}} + x_{0} x_{1} x_{2} x_{3} x_{4} + \n"
     ]
    }
   ],
   "source": [
    "f = '0100 0111 1000 1110 1001 1100 0001 0110'.replace(' ', '')\n",
    "sdnf = ''\n",
    "sknf = ''\n",
    "for i in range(len(f)):\n",
    "    s = bin(i)[2:].rjust(5, '0')\n",
    "    if f[i] == '1':\n",
    "        sknf += '('\n",
    "        temp = []\n",
    "        for j in range(5):\n",
    "            if s[j] == '1':\n",
    "                temp.append(\"\\\\bar{x_{\" + str(j) + \"}}\")\n",
    "            else:\n",
    "                temp.append(\"x_{\" + str(j) + \"}\")\n",
    "        sknf += \" + \".join(temp)\n",
    "        sknf += ')'\n",
    "    else:\n",
    "        temp = []\n",
    "        for j in range(5):\n",
    "            if s[j] == '0':\n",
    "                temp.append(\"\\\\bar{x_{\" + str(j) + \"}}\")\n",
    "            else: temp.append('x_{' + str(j) + '}')\n",
    "        sdnf += ' '.join(temp)\n",
    "        sdnf += ' + '\n",
    "print(sdnf)\n",
    "\n",
    "\n"
   ]
  },
  {
   "cell_type": "code",
   "execution_count": 2,
   "metadata": {},
   "outputs": [
    {
     "name": "stdout",
     "output_type": "stream",
     "text": [
      "(x_{0} + x_{1} + x_{2} + x_{3} + \\bar{x_{4}})(x_{0} + x_{1} + \\bar{x_{2}} + x_{3} + \\bar{x_{4}})(x_{0} + x_{1} + \\bar{x_{2}} + \\bar{x_{3}} + x_{4})(x_{0} + x_{1} + \\bar{x_{2}} + \\bar{x_{3}} + \\bar{x_{4}})(x_{0} + \\bar{x_{1}} + x_{2} + x_{3} + x_{4})(x_{0} + \\bar{x_{1}} + \\bar{x_{2}} + x_{3} + x_{4})(x_{0} + \\bar{x_{1}} + \\bar{x_{2}} + x_{3} + \\bar{x_{4}})(x_{0} + \\bar{x_{1}} + \\bar{x_{2}} + \\bar{x_{3}} + x_{4})(\\bar{x_{0}} + x_{1} + x_{2} + x_{3} + x_{4})(\\bar{x_{0}} + x_{1} + x_{2} + \\bar{x_{3}} + \\bar{x_{4}})(\\bar{x_{0}} + x_{1} + \\bar{x_{2}} + x_{3} + x_{4})(\\bar{x_{0}} + x_{1} + \\bar{x_{2}} + x_{3} + \\bar{x_{4}})(\\bar{x_{0}} + \\bar{x_{1}} + x_{2} + \\bar{x_{3}} + \\bar{x_{4}})(\\bar{x_{0}} + \\bar{x_{1}} + \\bar{x_{2}} + x_{3} + \\bar{x_{4}})(\\bar{x_{0}} + \\bar{x_{1}} + \\bar{x_{2}} + \\bar{x_{3}} + x_{4})\n"
     ]
    }
   ],
   "source": [
    "print(sknf)"
   ]
  },
  {
   "cell_type": "code",
   "execution_count": 4,
   "metadata": {},
   "outputs": [
    {
     "name": "stdout",
     "output_type": "stream",
     "text": [
      "00000\n",
      "00001\n",
      "00010\n",
      "00011\n",
      "00100\n",
      "00101\n",
      "00110\n",
      "00111\n",
      "01000\n",
      "01001\n",
      "01010\n",
      "01011\n",
      "01100\n",
      "01101\n",
      "01110\n",
      "01111\n",
      "10000\n",
      "10001\n",
      "10010\n",
      "10011\n",
      "10100\n",
      "10101\n",
      "10110\n",
      "10111\n",
      "11000\n",
      "11001\n",
      "11010\n",
      "11011\n",
      "11100\n",
      "11101\n",
      "11110\n",
      "11111\n",
      "01001110\n",
      "10001011\n",
      "00101010\n",
      "10100011\n"
     ]
    }
   ],
   "source": [
    "f = '0100 0111 1000 1110 1001 1100 0001 0110'.replace(' ', '')\n",
    "# print(f)\n",
    "# print(len(f))\n",
    "rows = ['00', '01', '11', '10']\n",
    "cols = ['000', '001', '011', '010', '110', '111', '101', '100']\n",
    "arr = [['x' for __ in range(len(cols))] for _ in range(len(rows))]\n",
    "for i in range(len(f)):\n",
    "    s = bin(i)[2:].rjust(5, \"0\")\n",
    "    print(s)\n",
    "    arr[rows.index(s[:2])][cols.index(s[2:])] = f[i]\n",
    "\n",
    "for i in range(4):\n",
    "    print(\"\".join(arr[i]))"
   ]
  },
  {
   "cell_type": "code",
   "execution_count": 5,
   "metadata": {},
   "outputs": [
    {
     "name": "stdout",
     "output_type": "stream",
     "text": [
      "32\n",
      "01001110\n",
      "10001011\n",
      "00101010\n",
      "10100011\n"
     ]
    }
   ],
   "source": [
    "f = \"0100 0111 1000 1110 1001 1100 0001 0110\".replace(\" \", \"\")\n",
    "print(len(f))\n",
    "rows = ['00', '01', '11', '10']\n",
    "cols = ['000', '001', '011', '010', '110', '111', '101', '100']\n",
    "arr = [['0' for __ in range(len(cols))] for _ in range(4)]\n",
    "for i in range(32):\n",
    "    s = bin(i)[2:].rjust(5, \"0\")\n",
    "    arr[rows.index(s[:2])][cols.index(s[2:])] = f[i]\n",
    "for i in range(4):\n",
    "    print(\"\".join(arr[i]))"
   ]
  },
  {
   "attachments": {
    "image.png": {
     "image/png": "[encoded data removed]"
    }
   },
   "cell_type": "markdown",
   "metadata": {},
   "source": [
    "F = X3x4X5 + X1x2x4X5 + X1X3x4X5 + x2X3x4X5 + X1x2x4X5 + X1x2X3X5 + X1X3x4X5 + X1x2x4X5\n",
    "(маленькие буквы - оператор не)\n",
    "![image.png](attachment:image.png)"
   ]
  }
 ],
 "metadata": {
  "kernelspec": {
   "display_name": "Python 3",
   "language": "python",
   "name": "python3"
  },
  "language_info": {
   "codemirror_mode": {
    "name": "ipython",
    "version": 3
   },
   "file_extension": ".py",
   "mimetype": "text/x-python",
   "name": "python",
   "nbconvert_exporter": "python",
   "pygments_lexer": "ipython3",
   "version": "3.12.0"
  }
 },
 "nbformat": 4,
 "nbformat_minor": 2
}
