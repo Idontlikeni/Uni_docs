{
 "cells": [
  {
   "cell_type": "code",
   "execution_count": 5,
   "metadata": {},
   "outputs": [
    {
     "name": "stdout",
     "output_type": "stream",
     "text": [
      "00000\n",
      "00001\n",
      "00010\n",
      "00011\n",
      "00100\n",
      "00101\n",
      "00110\n",
      "00111\n",
      "01000\n",
      "01001\n",
      "01010\n",
      "01011\n",
      "01100\n",
      "01101\n",
      "01110\n",
      "01111\n",
      "10000\n",
      "10001\n",
      "10010\n",
      "10011\n",
      "10100\n",
      "10101\n",
      "10110\n",
      "10111\n",
      "11000\n",
      "11001\n",
      "11010\n",
      "11011\n",
      "11100\n",
      "11101\n",
      "11110\n",
      "11111\n"
     ]
    }
   ],
   "source": [
    "f = '0100 0111 1000 1110 1001 1100 0001 0110'.replace(' ', '')\n",
    "dct = {}\n",
    "for i in range(6):\n",
    "    dct[i] = []\n",
    "\n",
    "for i in range(len(f)):\n",
    "    s = bin(i)[2:].rjust(5, \"0\")\n",
    "    e = f[i]\n",
    "    if e == '1':\n",
    "        dct[s.count(\"1\")].append(s)\n",
    "    print(s)"
   ]
  },
  {
   "cell_type": "code",
   "execution_count": 6,
   "metadata": {},
   "outputs": [
    {
     "data": {
      "text/plain": [
       "{0: [],\n",
       " 1: ['00001', '01000', '10000'],\n",
       " 2: ['00101', '00110', '01100', '10100'],\n",
       " 3: ['00111', '01101', '01110', '10011', '10101'],\n",
       " 4: ['11011', '11101', '11110'],\n",
       " 5: []}"
      ]
     },
     "execution_count": 6,
     "metadata": {},
     "output_type": "execute_result"
    }
   ],
   "source": [
    "dct"
   ]
  },
  {
   "cell_type": "code",
   "execution_count": 7,
   "metadata": {},
   "outputs": [],
   "source": [
    "def check(a, b):\n",
    "    c = -1\n",
    "    for i in range(5):\n",
    "        if a[i] != b[i]:\n",
    "            if c != -1: return '0'\n",
    "            c = i\n",
    "    return a[:c] + '-' + a[c+1:]"
   ]
  },
  {
   "cell_type": "code",
   "execution_count": 12,
   "metadata": {},
   "outputs": [
    {
     "name": "stdout",
     "output_type": "stream",
     "text": [
      "['00001', '01000', '10000'] ['00101', '00110', '01100', '10100']\n",
      "1 1 00001 1- 1 00-01\n",
      "1 2 01000 2- 2 01-00\n",
      "1 3 10000 3- 3 10-00\n",
      "['00101', '00110', '01100', '10100'] ['00111', '01101', '01110', '10011', '10101']\n",
      "2 4 00101 4- 4 001-1\n",
      "2 4 - 4- 5 0-101\n",
      "2 4 - 4- 6 -0101\n",
      "2 5 00110 5- 7 0011-\n",
      "2 5 - 5- 8 0-110\n",
      "2 6 01100 6- 9 0110-\n",
      "2 6 - 6- 10 011-0\n",
      "2 7 10100 7- 11 1010-\n",
      "['00111', '01101', '01110', '10011', '10101'] ['11011', '11101', '11110']\n",
      "3 9 01101 9- 12 -1101\n",
      "3 10 01110 10- 13 -1110\n",
      "3 11 10011 11- 14 1-011\n",
      "3 12 10101 12- 15 1-101\n",
      "['11011', '11101', '11110'] []\n",
      "4 16 11011\n",
      "4 17 11101\n",
      "4 18 11110\n"
     ]
    }
   ],
   "source": [
    "import openpyxl \n",
    "\n",
    "wb = openpyxl.Workbook() \n",
    "\n",
    "sheet = wb.active \n",
    "\n",
    "c = 1\n",
    "ni = 1\n",
    "impl = []\n",
    "for i in range(1, 6):\n",
    "    a = dct[i]\n",
    "    if i+1 == 6:\n",
    "        break\n",
    "    b = dct[i+1]\n",
    "    print(a, b)\n",
    "    for j in range(len(a)):\n",
    "        flag = True\n",
    "        # print(a)\n",
    "        for k in range(len(b)):\n",
    "            if check(a[j], b[k]) != '0':\n",
    "                # print(j, k)\n",
    "                if(flag):\n",
    "                    sheet.append((i, c, a[j], f\"{c}-\", ni, check(a[j], b[k])))\n",
    "                    print(i, c, a[j], f\"{c}-\", ni, check(a[j], b[k]))\n",
    "                    flag = False\n",
    "                else:\n",
    "                    sheet.append((i, c, \"-\", f\"{c}-\", ni, check(a[j], b[k])))\n",
    "                    print(i, c, \"-\", f\"{c}-\", ni, check(a[j], b[k]))\n",
    "                impl.append(check(a[j], b[k]))\n",
    "                ni+=1\n",
    "            \n",
    "        c += 1\n",
    "    if i + 1 == 5:\n",
    "        for j in a:\n",
    "            print(i, c, j)\n",
    "            c += 1\n",
    "wb.save(\"sample.xlsx\")"
   ]
  },
  {
   "cell_type": "code",
   "execution_count": 9,
   "metadata": {},
   "outputs": [
    {
     "data": {
      "text/plain": [
       "{0: [],\n",
       " 1: ['00-01', '01-00', '10-00'],\n",
       " 2: ['001-1', '0-101', '-0101', '0011-', '0-110', '0110-', '011-0', '1010-'],\n",
       " 3: ['-1101', '-1110', '1-011', '1-101']}"
      ]
     },
     "execution_count": 9,
     "metadata": {},
     "output_type": "execute_result"
    }
   ],
   "source": [
    "dct_impl = {}\n",
    "for i in range(4):\n",
    "    dct_impl[i] = []\n",
    "for i in impl:\n",
    "    dct_impl[i.count(\"1\")].append(i)\n",
    "dct_impl"
   ]
  },
  {
   "cell_type": "code",
   "execution_count": 10,
   "metadata": {},
   "outputs": [
    {
     "name": "stdout",
     "output_type": "stream",
     "text": [
      "2 5 0-101 5- 1 --101\n",
      "2 6 -0101 6- 2 --101\n"
     ]
    }
   ],
   "source": [
    "c = 1\n",
    "ni = 1\n",
    "for i in range(1, 3):\n",
    "    a = dct_impl[i]\n",
    "    if i+1 == 4:\n",
    "        break\n",
    "    b = dct_impl[i+1]\n",
    "    \n",
    "    for j in range(len(a)):\n",
    "        for k in range(len(b)):\n",
    "            if check(a[j], b[k]) != '0':\n",
    "                # print(j, k)\n",
    "                print(i, c, a[j], f\"{c}-\", ni, check(a[j], b[k]))\n",
    "                # impl.append(check(a[j], b[k]))\n",
    "                ni+=1\n",
    "        c += 1\n",
    "    if i + 1 == 5:\n",
    "        for j in a:\n",
    "            print(i, c, j)\n",
    "            c += 1"
   ]
  }
 ],
 "metadata": {
  "kernelspec": {
   "display_name": "Python 3",
   "language": "python",
   "name": "python3"
  },
  "language_info": {
   "codemirror_mode": {
    "name": "ipython",
    "version": 3
   },
   "file_extension": ".py",
   "mimetype": "text/x-python",
   "name": "python",
   "nbconvert_exporter": "python",
   "pygments_lexer": "ipython3",
   "version": "3.12.2"
  }
 },
 "nbformat": 4,
 "nbformat_minor": 2
}
