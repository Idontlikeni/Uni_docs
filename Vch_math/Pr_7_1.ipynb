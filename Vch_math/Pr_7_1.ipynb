{
 "cells": [
  {
   "cell_type": "markdown",
   "metadata": {},
   "source": [
    "# Задание 7.1\n",
    "Задание 7.1.  \n",
    "Найти минимум функции $f(x) = x^{2} + 4x$ методом дихотомии на интервале [-5; 5] с \n",
    "точностью 𝜀=0.01.  \n",
    "Сравнить с точным значением."
   ]
  },
  {
   "cell_type": "code",
   "execution_count": 1,
   "metadata": {},
   "outputs": [],
   "source": [
    "def f(x):\n",
    "    return x*x + 4*x"
   ]
  },
  {
   "cell_type": "code",
   "execution_count": 2,
   "metadata": {},
   "outputs": [],
   "source": [
    "a = -5\n",
    "b = 5\n",
    "e = 0.01"
   ]
  },
  {
   "cell_type": "code",
   "execution_count": 3,
   "metadata": {},
   "outputs": [
    {
     "name": "stdout",
     "output_type": "stream",
     "text": [
      "a, b:  -5 5\n",
      "Середина интервала:  0.0\n",
      "a, b:  -5 -0.01\n",
      "Середина интервала:  -2.505\n",
      "a, b:  -2.495 -0.01\n",
      "Середина интервала:  -1.2525\n",
      "a, b:  -2.495 -1.2625\n",
      "Середина интервала:  -1.8787500000000001\n",
      "a, b:  -2.495 -1.8887500000000002\n",
      "Середина интервала:  -2.191875\n",
      "a, b:  -2.1818750000000002 -1.8887500000000002\n",
      "Середина интервала:  -2.0353125000000003\n",
      "a, b:  -2.0253125000000005 -1.8887500000000002\n",
      "Середина интервала:  -1.9570312500000004\n",
      "a, b:  -2.0253125000000005 -1.9670312500000005\n",
      "Середина интервала:  -1.9961718750000004\n",
      "a, b:  -2.0253125000000005 -2.006171875\n",
      "Середина интервала:  -2.0157421875000003\n",
      "a, b:  -2.0057421875000006 -2.006171875\n",
      "Середина интервала:  -2.0059570312500004\n",
      "-2.0108496093750006\n"
     ]
    }
   ],
   "source": [
    "ans = 0\n",
    "mid = -1\n",
    "while True: # abs(b - a) >= e\n",
    "    print(\"a, b: \", a, b)\n",
    "    prev_mid = mid\n",
    "    mid = (a+b)/2\n",
    "    print(\"Середина интервала: \", mid)\n",
    "    if abs(prev_mid - mid) < e:\n",
    "        ans = (prev_mid + mid)/2\n",
    "        break\n",
    "    x1 = mid - e\n",
    "    x2 = mid + e\n",
    "    f1 = f(x1)\n",
    "    f2 = f(x2)\n",
    "    # print(mid, f1, f2)\n",
    "    if(f1 < f2): b = x1\n",
    "    else: a = x2\n",
    "    # print(a, b)\n",
    "\n",
    "print(ans)"
   ]
  }
 ],
 "metadata": {
  "kernelspec": {
   "display_name": "Python 3",
   "language": "python",
   "name": "python3"
  },
  "language_info": {
   "codemirror_mode": {
    "name": "ipython",
    "version": 3
   },
   "file_extension": ".py",
   "mimetype": "text/x-python",
   "name": "python",
   "nbconvert_exporter": "python",
   "pygments_lexer": "ipython3",
   "version": "3.12.0"
  }
 },
 "nbformat": 4,
 "nbformat_minor": 2
}
