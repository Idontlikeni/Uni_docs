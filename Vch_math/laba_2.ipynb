{
 "cells": [
  {
   "cell_type": "markdown",
   "metadata": {},
   "source": [
    "# Эксперимент 3"
   ]
  },
  {
   "cell_type": "code",
   "execution_count": 21,
   "metadata": {},
   "outputs": [],
   "source": [
    "fr = 19.91\n",
    "arr = []\n",
    "for i in range(3, 11, 2):\n",
    "    arr.append(fr*i/10)\n",
    "arr.append(fr)\n",
    "arr += [1.1*fr, 1.2*fr, 1.5*fr, 2*fr]"
   ]
  },
  {
   "cell_type": "code",
   "execution_count": 22,
   "metadata": {},
   "outputs": [
    {
     "name": "stdout",
     "output_type": "stream",
     "text": [
      "5.973000000000001 9.955 13.937000000000001 17.919 19.91 21.901000000000003 23.892 29.865000000000002 39.82\n"
     ]
    }
   ],
   "source": [
    "print(*arr)"
   ]
  },
  {
   "cell_type": "markdown",
   "metadata": {},
   "source": [
    "# Первый эксперимент"
   ]
  },
  {
   "cell_type": "code",
   "execution_count": 23,
   "metadata": {},
   "outputs": [
    {
     "name": "stdout",
     "output_type": "stream",
     "text": [
      "[28530. 47304. 65232. 72900. 77040. 79560.]\n"
     ]
    }
   ],
   "source": [
    "import numpy as np\n",
    "f1 = [i*10 for i in range(1, 6)]\n",
    "f1 = [5] + f1\n",
    "f1 = np.array(f1)\n",
    "dt = np.array([15.85, 13.14, 9.06, 6.75, 5.35, 4.42])\n",
    "phi = 360*f1*dt\n",
    "print(phi)\n"
   ]
  },
  {
   "cell_type": "code",
   "execution_count": 24,
   "metadata": {},
   "outputs": [
    {
     "name": "stdout",
     "output_type": "stream",
     "text": [
      "[0.0609469  0.12189379 0.24378759 0.36568138 0.48757518 0.60946897]\n"
     ]
    }
   ],
   "source": [
    "L = 1.94*10**-3\n",
    "Xl = 2*np.pi*f1*L\n",
    "print(Xl)"
   ]
  },
  {
   "cell_type": "markdown",
   "metadata": {},
   "source": [
    "# 3-й Эксперимент"
   ]
  },
  {
   "cell_type": "code",
   "execution_count": 25,
   "metadata": {},
   "outputs": [
    {
     "name": "stdout",
     "output_type": "stream",
     "text": [
      "[186.12   319.95    67.86    21.474   26.118  331.9236 153.1296  82.98\n",
      " 246.168 ] [0.7437154  0.38053477 0.20920714 0.12410593 0.11308494 0.1220375\n",
      " 0.14622566 0.23245238 0.38138209]\n"
     ]
    }
   ],
   "source": [
    "dt = np.array([129, 80.25, 60.5, 52.35, 0.305, 3.01, 4.58, 5.7, 5.09])\n",
    "I = np.array([393.82, 769.68, 1400, 2360, 2590, 2400, 2003, 1260, 767.97])\n",
    "U = 292.89\n",
    "f = np.array(arr)\n",
    "phi = 360*f*dt\n",
    "Z = U/I\n",
    "print(phi%360, Z)"
   ]
  },
  {
   "cell_type": "markdown",
   "metadata": {},
   "source": [
    "# 2-й Эксперимент"
   ]
  },
  {
   "cell_type": "code",
   "execution_count": null,
   "metadata": {},
   "outputs": [],
   "source": [
    "f = [i*10 for i in range(1, 6)]\n",
    "f = [5] + f\n",
    "f = np.array(f)\n",
    "C = 33*10**-9\n",
    "Xc = 1/(2*np.pi*f*C)\n",
    "Xc"
   ]
  },
  {
   "cell_type": "code",
   "execution_count": null,
   "metadata": {},
   "outputs": [],
   "source": []
  }
 ],
 "metadata": {
  "kernelspec": {
   "display_name": "Python 3",
   "language": "python",
   "name": "python3"
  },
  "language_info": {
   "codemirror_mode": {
    "name": "ipython",
    "version": 3
   },
   "file_extension": ".py",
   "mimetype": "text/x-python",
   "name": "python",
   "nbconvert_exporter": "python",
   "pygments_lexer": "ipython3",
   "version": "3.12.2"
  }
 },
 "nbformat": 4,
 "nbformat_minor": 2
}
