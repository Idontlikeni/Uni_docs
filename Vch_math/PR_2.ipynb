{
 "cells": [
  {
   "cell_type": "markdown",
   "metadata": {},
   "source": [
    "# Задание 2.1(а)\n",
    "x = 0,1976"
   ]
  },
  {
   "cell_type": "code",
   "execution_count": 64,
   "metadata": {},
   "outputs": [
    {
     "name": "stdout",
     "output_type": "stream",
     "text": [
      "x, y: [0.18  0.185 0.19  0.195 0.2   0.205] [5.61543 5.46693 5.32634 5.19304 5.06649 4.94619]\n",
      "x-xi:  [ 0.0176  0.0126  0.0076  0.0026 -0.0024 -0.0074]\n"
     ]
    }
   ],
   "source": [
    "import numpy as np\n",
    "import random\n",
    "x = np.arange(0.180, 0.210, 0.005)\n",
    "# for i in range(len(x)):\n",
    "#     x[i] -= random.randint(-100, 100) / 50000\n",
    "y = np.array([5.61543, 5.46693, 5.32634, 5.19304, 5.06649, 4.94619])\n",
    "print(\"x, y:\", x, y)\n",
    "X = 0.1976\n",
    "dx = X-x\n",
    "print(\"x-xi: \", dx)\n"
   ]
  },
  {
   "cell_type": "markdown",
   "metadata": {},
   "source": [
    "Вычисляем $$ \\Pi_{n+1} = (x-x_{0})(x-x_{1})\\dots(x-x_{n})$$"
   ]
  },
  {
   "cell_type": "code",
   "execution_count": 65,
   "metadata": {},
   "outputs": [
    {
     "data": {
      "text/plain": [
       "7.782392217600032e-14"
      ]
     },
     "execution_count": 65,
     "metadata": {},
     "output_type": "execute_result"
    }
   ],
   "source": [
    "P = np.prod(dx)\n",
    "P"
   ]
  },
  {
   "cell_type": "markdown",
   "metadata": {},
   "source": [
    "Вычисляем $$ D_{i} = (x_{i}-x_{0})(x_{i}-x_{1})\\dots(x_{i}-x_{i-1})(x-x_{i})(x_{i}-x_{i+1})\\dots(x_{i}-x_{n})$$"
   ]
  },
  {
   "cell_type": "code",
   "execution_count": 66,
   "metadata": {},
   "outputs": [
    {
     "data": {
      "text/plain": [
       "array([-6.600e-12,  9.450e-13, -2.850e-13,  9.750e-14,  1.800e-13,\n",
       "       -2.775e-12])"
      ]
     },
     "execution_count": 66,
     "metadata": {},
     "output_type": "execute_result"
    }
   ],
   "source": [
    "d_arr = []\n",
    "for i in range(6):\n",
    "    d_arr.append([])\n",
    "    for j in range(6):\n",
    "        if i == j: d_arr[i].append(X - x[i])\n",
    "        else: d_arr[i].append(x[i] - x[j])\n",
    "        \n",
    "D = np.array([np.prod(i) for i in d_arr])\n",
    "D"
   ]
  },
  {
   "cell_type": "markdown",
   "metadata": {},
   "source": [
    "Вычисляем $$f(x) \\thickapprox \\Pi_{6+1}(x) * \\sum^{6}_{i=0}(\\frac{y_{i}}{D_{i}(x)})$$"
   ]
  },
  {
   "cell_type": "code",
   "execution_count": 67,
   "metadata": {},
   "outputs": [
    {
     "data": {
      "text/plain": [
       "5.126423680173466"
      ]
     },
     "execution_count": 67,
     "metadata": {},
     "output_type": "execute_result"
    }
   ],
   "source": [
    "f = P * np.sum(y/D)\n",
    "f"
   ]
  },
  {
   "cell_type": "code",
   "execution_count": 68,
   "metadata": {},
   "outputs": [
    {
     "data": {
      "image/png": "[encoded data removed]",
      "text/plain": [
       "<Figure size 640x480 with 1 Axes>"
      ]
     },
     "metadata": {},
     "output_type": "display_data"
    }
   ],
   "source": [
    "import matplotlib.pyplot as plt \n",
    "fig, ax = plt.subplots()\n",
    "ax.scatter(x, y)\n",
    "ax.scatter(X, f)\n",
    "plt.show()"
   ]
  },
  {
   "cell_type": "markdown",
   "metadata": {},
   "source": [
    "# Задание 2.1 (б)\n",
    "$h = \\Delta x = 0,005$"
   ]
  },
  {
   "cell_type": "code",
   "execution_count": 69,
   "metadata": {},
   "outputs": [],
   "source": [
    "h = 0.005\n",
    "x = np.arange(0.180, 0.210, 0.005)"
   ]
  },
  {
   "cell_type": "markdown",
   "metadata": {},
   "source": [
    "Вычисляем $t$ и $(t-i)$"
   ]
  },
  {
   "cell_type": "code",
   "execution_count": 70,
   "metadata": {},
   "outputs": [
    {
     "name": "stdout",
     "output_type": "stream",
     "text": [
      "3.520000000000001 [ 3.52  2.52  1.52  0.52 -0.48 -1.48]\n"
     ]
    }
   ],
   "source": [
    "T = (X - x[0])/h\n",
    "t = T - np.arange(0, 6, 1)\n",
    "print(T, t)"
   ]
  },
  {
   "cell_type": "markdown",
   "metadata": {},
   "source": [
    "Вычисляем $ \\Pi_{n+1}(t) = t(t-1)\\dots(t-n)$"
   ]
  },
  {
   "cell_type": "code",
   "execution_count": 71,
   "metadata": {},
   "outputs": [
    {
     "data": {
      "text/plain": [
       "-12.352212927774719"
      ]
     },
     "execution_count": 71,
     "metadata": {},
     "output_type": "execute_result"
    }
   ],
   "source": [
    "P = np.prod(t)*(T - 6)\n",
    "P"
   ]
  },
  {
   "cell_type": "markdown",
   "metadata": {},
   "source": [
    "Вычисляем $C_{i}$: $C_{i} = (-1)^{n-i}*i!(n-i)!$"
   ]
  },
  {
   "cell_type": "code",
   "execution_count": 72,
   "metadata": {},
   "outputs": [
    {
     "data": {
      "text/plain": [
       "array([ 720, -120,   48,  -36,   48, -120])"
      ]
     },
     "execution_count": 72,
     "metadata": {},
     "output_type": "execute_result"
    }
   ],
   "source": [
    "import math\n",
    "C = np.array([((-1) ** (6-i)) * math.factorial(i)*math.factorial(6-i) for i in range(6)])\n",
    "C"
   ]
  },
  {
   "cell_type": "markdown",
   "metadata": {},
   "source": [
    "Вычисляем $(t_{i} - i)C_{i}, \\frac{y_{i}}{((t_{i} - i)C_{i})}$"
   ]
  },
  {
   "cell_type": "code",
   "execution_count": 73,
   "metadata": {},
   "outputs": [
    {
     "name": "stdout",
     "output_type": "stream",
     "text": [
      "[2534.4  -302.4    72.96  -18.72  -23.04  177.6 ]\n",
      "[ 0.00221568 -0.01807847  0.07300356 -0.27740598 -0.21989974  0.02785017]\n"
     ]
    }
   ],
   "source": [
    "print(t*C)\n",
    "print(y/(t*C))"
   ]
  },
  {
   "cell_type": "markdown",
   "metadata": {},
   "source": [
    "Вычисляем $\\sum \\frac{y_{i}}{((t_{i} - i)C_{i})}$"
   ]
  },
  {
   "cell_type": "code",
   "execution_count": 74,
   "metadata": {},
   "outputs": [
    {
     "data": {
      "text/plain": [
       "-0.41231477801052213"
      ]
     },
     "execution_count": 74,
     "metadata": {},
     "output_type": "execute_result"
    }
   ],
   "source": [
    "sm = np.sum(y/(t*C))\n",
    "sm"
   ]
  },
  {
   "cell_type": "markdown",
   "metadata": {},
   "source": [
    "Вычисляем $$f(x) \\thickapprox \\Pi_{6+1}(x) * \\sum^{6}_{i=0}(\\frac{y_{i}}{(t-i)C_{i}})$$"
   ]
  },
  {
   "cell_type": "code",
   "execution_count": 75,
   "metadata": {},
   "outputs": [
    {
     "data": {
      "text/plain": [
       "5.092999931254135"
      ]
     },
     "execution_count": 75,
     "metadata": {},
     "output_type": "execute_result"
    }
   ],
   "source": [
    "f = P*sm\n",
    "f"
   ]
  },
  {
   "cell_type": "code",
   "execution_count": 76,
   "metadata": {},
   "outputs": [
    {
     "data": {
      "image/png": "[encoded data removed]",
      "text/plain": [
       "<Figure size 640x480 with 1 Axes>"
      ]
     },
     "metadata": {},
     "output_type": "display_data"
    }
   ],
   "source": [
    "import matplotlib.pyplot as plt \n",
    "fig, ax = plt.subplots()\n",
    "ax.scatter(x, y)\n",
    "ax.scatter(X, f)\n",
    "plt.show()"
   ]
  }
 ],
 "metadata": {
  "kernelspec": {
   "display_name": "Python 3",
   "language": "python",
   "name": "python3"
  },
  "language_info": {
   "codemirror_mode": {
    "name": "ipython",
    "version": 3
   },
   "file_extension": ".py",
   "mimetype": "text/x-python",
   "name": "python",
   "nbconvert_exporter": "python",
   "pygments_lexer": "ipython3",
   "version": "3.12.0"
  }
 },
 "nbformat": 4,
 "nbformat_minor": 2
}
