{
 "cells": [
  {
   "cell_type": "markdown",
   "metadata": {},
   "source": [
    "# Дано:\n"
   ]
  },
  {
   "cell_type": "code",
   "execution_count": 3,
   "metadata": {},
   "outputs": [
    {
     "name": "stdout",
     "output_type": "stream",
     "text": [
      "[10 20 30 40 50 60 70 80 90 95] [1000  600  480  430  415  412  410  405  400  392]\n"
     ]
    }
   ],
   "source": [
    "import numpy as np\n",
    "x = np.array([10, 20, 30, 40, 50, 60, 70, 80, 90, 95])\n",
    "y = np.array([1000, 600, 480, 430, 415, 412, 410, 405, 400, 392])\n",
    "print(x, y)"
   ]
  },
  {
   "cell_type": "markdown",
   "metadata": {},
   "source": [
    "Расчитываем $x_{i}^2, x_{i}^3, x_{i}^4, x_{i}^2y_{i}, x_{i}y_{i}$"
   ]
  },
  {
   "cell_type": "code",
   "execution_count": 6,
   "metadata": {},
   "outputs": [
    {
     "name": "stdout",
     "output_type": "stream",
     "text": [
      "[ 100  400  900 1600 2500 3600 4900 6400 8100 9025]\n",
      "[  1000   8000  27000  64000 125000 216000 343000 512000 729000 857375]\n",
      "[   10000   160000   810000  2560000  6250000 12960000 24010000 40960000\n",
      " 65610000 81450625]\n",
      "[ 100000  240000  432000  688000 1037500 1483200 2009000 2592000 3240000\n",
      " 3537800]\n",
      "[10000 12000 14400 17200 20750 24720 28700 32400 36000 37240]\n"
     ]
    }
   ],
   "source": [
    "x_2 = np.power(x, 2)\n",
    "x_3 = np.power(x, 3)\n",
    "x_4 = np.power(x, 4)\n",
    "x_2y = x_2 * y\n",
    "xy = x*y\n",
    "print(x_2, x_3, x_4, x_2y, xy, sep='\\n') "
   ]
  },
  {
   "cell_type": "markdown",
   "metadata": {},
   "source": [
    "Рассчитываем суммы:"
   ]
  },
  {
   "cell_type": "code",
   "execution_count": 12,
   "metadata": {},
   "outputs": [
    {
     "data": {
      "text/plain": [
       "(545, 4944, 37525, 2882375, 234780625, 15359500, 233410)"
      ]
     },
     "execution_count": 12,
     "metadata": {},
     "output_type": "execute_result"
    }
   ],
   "source": [
    "x_sum = np.sum(x)\n",
    "y_sum = np.sum(y)\n",
    "x_2_sum = np.sum(x_2)\n",
    "x_3_sum = np.sum(x_3)\n",
    "x_4_sum = np.sum(x_4)\n",
    "x_2y_sum = np.sum(x_2y)\n",
    "xy_sum = np.sum(xy)\n",
    "x_sum, y_sum, x_2_sum, x_3_sum, x_4_sum, x_2y_sum, xy_sum"
   ]
  },
  {
   "cell_type": "markdown",
   "metadata": {},
   "source": [
    "СЛУ для нахождения коэффицентов:\n",
    "$$\n",
    "\\begin{cases}\\displaystyle\n",
    "na_{0}+a_{1}\\sum_{i=1}^nx_{i} + a_{2}\\sum_{i=1}^nx_{i}^2 = a_{1}\\sum_{i=1}^ny_{i} \\\\\n",
    "\\displaystyle a_{0}\\sum_{i=1}^nx_{i} + a_{1}\\sum_{i=1}^nx_{i}^2 + a_{2}\\sum_{i=1}^nx_{i}^3 = \\sum_{i=1}^nx_{i}y_{i} \\\\\n",
    "\\displaystyle a_{0}\\sum_{i=1}^nx_{i}^2 + a_{1}\\sum_{i=1}^nx_{i}^3+ a_{2}\\sum_{i=1}^nx_{i}^4 = \\sum_{i=1}^nx_{i}^2y_{i} \n",
    "\\end{cases}\n",
    "$$\n",
    "\n",
    "\n",
    "$$\n",
    "\\begin{cases}\n",
    "10a_{0} + a_{1}545 + a_{2}37525 = 4944 \\\\\n",
    "a_{0}545 + a_{1}37525 + a_{2}2882375 = 233410 \\\\\n",
    "a_{0}37525 + a_{1}2882375 + a_{2}234780625 = 15359500\n",
    "\\end{cases}\n",
    "$$\n",
    "\n",
    "$$\n",
    "a_{0} = 1063.0, a_{1} = -20.940, a_{2} = 0.15260\n",
    "$$\n",
    "Записываем уравнение:\n",
    "$y = 0.15260x^2 - 20.940x + 1063$\n",
    "Вычисляем расчетное y и невязки $\\hat{y_{i}}, \\delta_{i}, \\delta_{i}^2$, строим график"
   ]
  },
  {
   "cell_type": "code",
   "execution_count": 26,
   "metadata": {},
   "outputs": [
    {
     "name": "stdout",
     "output_type": "stream",
     "text": [
      "868.86 705.24 572.14 469.55999999999995 397.5 355.9599999999999 344.9399999999998 364.44000000000005 414.46000000000004 450.91499999999996\n",
      "131.14 105.24000000000001 92.13999999999999 39.559999999999945 17.5 56.04000000000008 65.06000000000017 40.559999999999945 14.460000000000036 58.914999999999964\n",
      "17197.699599999996 11075.457600000002 8489.779599999998 1564.9935999999957 306.25 3140.4816000000087 4232.803600000023 1645.1135999999956 209.09160000000105 3470.9772249999955\n"
     ]
    }
   ],
   "source": [
    "temp = []\n",
    "def foo(x):\n",
    "    return x*x*0.15260 - x*20.940 + 1063\n",
    "for i in x:\n",
    "    temp.append(foo(i))\n",
    "y_calc = np.array(temp)\n",
    "delta = np.abs(y_calc - y)\n",
    "delta_2 = np.power(delta, 2)\n",
    "print(*y_calc)\n",
    "print(*delta)\n",
    "print(*delta_2)"
   ]
  },
  {
   "cell_type": "code",
   "execution_count": 25,
   "metadata": {},
   "outputs": [
    {
     "data": {
      "image/png": "[encoded data removed]",
      "text/plain": [
       "<Figure size 640x480 with 1 Axes>"
      ]
     },
     "metadata": {},
     "output_type": "display_data"
    }
   ],
   "source": [
    "import matplotlib.pyplot as plt \n",
    "fig, ax = plt.subplots()\n",
    "ax.scatter(x, y)\n",
    "ax.plot(x, y_calc)\n",
    "plt.show()"
   ]
  },
  {
   "cell_type": "markdown",
   "metadata": {},
   "source": [
    "Прогнозирование стоимости подключения при плотности 100 чел/км$^2$"
   ]
  },
  {
   "cell_type": "code",
   "execution_count": 27,
   "metadata": {},
   "outputs": [
    {
     "data": {
      "text/plain": [
       "495.0000000000002"
      ]
     },
     "execution_count": 27,
     "metadata": {},
     "output_type": "execute_result"
    }
   ],
   "source": [
    "foo(100)"
   ]
  }
 ],
 "metadata": {
  "kernelspec": {
   "display_name": "Python 3",
   "language": "python",
   "name": "python3"
  },
  "language_info": {
   "codemirror_mode": {
    "name": "ipython",
    "version": 3
   },
   "file_extension": ".py",
   "mimetype": "text/x-python",
   "name": "python",
   "nbconvert_exporter": "python",
   "pygments_lexer": "ipython3",
   "version": "3.12.0"
  }
 },
 "nbformat": 4,
 "nbformat_minor": 2
}
